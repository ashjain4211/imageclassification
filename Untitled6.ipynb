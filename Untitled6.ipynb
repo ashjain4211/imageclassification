{
  "nbformat": 4,
  "nbformat_minor": 0,
  "metadata": {
    "colab": {
      "name": "Untitled6.ipynb",
      "provenance": [],
      "include_colab_link": true
    },
    "kernelspec": {
      "name": "python3",
      "display_name": "Python 3"
    },
    "accelerator": "GPU"
  },
  "cells": [
    {
      "cell_type": "markdown",
      "metadata": {
        "id": "view-in-github",
        "colab_type": "text"
      },
      "source": [
        "<a href=\"https://colab.research.google.com/github/ashjain4211/imageclassification/blob/master/Untitled6.ipynb\" target=\"_parent\"><img src=\"https://colab.research.google.com/assets/colab-badge.svg\" alt=\"Open In Colab\"/></a>"
      ]
    },
    {
      "cell_type": "code",
      "metadata": {
        "id": "KX3Fa1cgZoJG",
        "colab_type": "code",
        "colab": {
          "base_uri": "https://localhost:8080/",
          "height": 124
        },
        "outputId": "9ec0bb61-a2e1-4cd8-a335-132420d1e594"
      },
      "source": [
        "from google.colab import drive\n",
        "drive.mount('/content/drive/')"
      ],
      "execution_count": 1,
      "outputs": [
        {
          "output_type": "stream",
          "text": [
            "Go to this URL in a browser: https://accounts.google.com/o/oauth2/auth?client_id=947318989803-6bn6qk8qdgf4n4g3pfee6491hc0brc4i.apps.googleusercontent.com&redirect_uri=urn%3aietf%3awg%3aoauth%3a2.0%3aoob&response_type=code&scope=email%20https%3a%2f%2fwww.googleapis.com%2fauth%2fdocs.test%20https%3a%2f%2fwww.googleapis.com%2fauth%2fdrive%20https%3a%2f%2fwww.googleapis.com%2fauth%2fdrive.photos.readonly%20https%3a%2f%2fwww.googleapis.com%2fauth%2fpeopleapi.readonly\n",
            "\n",
            "Enter your authorization code:\n",
            "··········\n",
            "Mounted at /content/drive/\n"
          ],
          "name": "stdout"
        }
      ]
    },
    {
      "cell_type": "code",
      "metadata": {
        "id": "OyWjGBiBaFRA",
        "colab_type": "code",
        "colab": {}
      },
      "source": [
        "!pip install -q keras"
      ],
      "execution_count": 2,
      "outputs": []
    },
    {
      "cell_type": "code",
      "metadata": {
        "id": "uZa9eVTbdDc4",
        "colab_type": "code",
        "colab": {
          "base_uri": "https://localhost:8080/",
          "height": 35
        },
        "outputId": "4bbbb5c5-d61f-4abf-c2ec-fb376ebcf0ad"
      },
      "source": [
        "import keras\n"
      ],
      "execution_count": 3,
      "outputs": [
        {
          "output_type": "stream",
          "text": [
            "Using TensorFlow backend.\n"
          ],
          "name": "stderr"
        }
      ]
    },
    {
      "cell_type": "code",
      "metadata": {
        "id": "vDm7E2JKdLw_",
        "colab_type": "code",
        "colab": {}
      },
      "source": [
        "train_path='content/drive/My Drive/Colab Notebooks/dataset_new/spiral/training'\n",
        "test_path='/content/drive/My Drive/Colab Notebooks/dataset_new/spiral/testing'"
      ],
      "execution_count": 4,
      "outputs": []
    },
    {
      "cell_type": "code",
      "metadata": {
        "id": "UQmEXzRxebf6",
        "colab_type": "code",
        "colab": {
          "base_uri": "https://localhost:8080/",
          "height": 225
        },
        "outputId": "1867ad5b-30b7-401c-cbac-18924c4bc9eb"
      },
      "source": [
        "import os\n",
        "\n",
        "from tensorflow.keras import layers\n",
        "from tensorflow.keras import Model\n",
        "!wget --no-check-certificate \\\n",
        "    https://storage.googleapis.com/mledu-datasets/inception_v3_weights_tf_dim_ordering_tf_kernels_notop.h5 \\\n",
        "    -O /tmp/inception_v3_weights_tf_dim_ordering_tf_kernels_notop.h5\n",
        "  \n",
        "from tensorflow.keras.applications.inception_v3 import InceptionV3\n",
        "\n",
        "local_weights_file = '/tmp/inception_v3_weights_tf_dim_ordering_tf_kernels_notop.h5'\n",
        "\n",
        "pre_trained_model = InceptionV3(input_shape = (150, 150, 3), \n",
        "                                include_top = False, \n",
        "                                weights = None)\n",
        "\n",
        "pre_trained_model.load_weights(local_weights_file)\n",
        "\n",
        "for layer in pre_trained_model.layers:\n",
        "  layer.trainable = False\n",
        "  \n",
        "# pre_trained_model.summary()\n",
        "\n",
        "last_layer = pre_trained_model.get_layer('mixed8')\n",
        "print('last layer output shape: ', last_layer.output_shape)\n",
        "last_output = last_layer.output"
      ],
      "execution_count": 5,
      "outputs": [
        {
          "output_type": "stream",
          "text": [
            "--2020-07-03 06:47:12--  https://storage.googleapis.com/mledu-datasets/inception_v3_weights_tf_dim_ordering_tf_kernels_notop.h5\n",
            "Resolving storage.googleapis.com (storage.googleapis.com)... 108.177.119.128, 108.177.126.128, 74.125.143.128, ...\n",
            "Connecting to storage.googleapis.com (storage.googleapis.com)|108.177.119.128|:443... connected.\n",
            "HTTP request sent, awaiting response... 200 OK\n",
            "Length: 87910968 (84M) [application/x-hdf]\n",
            "Saving to: ‘/tmp/inception_v3_weights_tf_dim_ordering_tf_kernels_notop.h5’\n",
            "\n",
            "/tmp/inception_v3_w 100%[===================>]  83.84M  64.5MB/s    in 1.3s    \n",
            "\n",
            "2020-07-03 06:47:13 (64.5 MB/s) - ‘/tmp/inception_v3_weights_tf_dim_ordering_tf_kernels_notop.h5’ saved [87910968/87910968]\n",
            "\n",
            "last layer output shape:  (None, 3, 3, 1280)\n"
          ],
          "name": "stdout"
        }
      ]
    },
    {
      "cell_type": "code",
      "metadata": {
        "id": "FZBsJK-He2Ef",
        "colab_type": "code",
        "colab": {}
      },
      "source": [
        "from tensorflow.keras.optimizers import RMSprop\n",
        "\n",
        "# Flatten the output layer to 1 dimension\n",
        "x = layers.Flatten()(last_output)\n",
        "# Add a fully connected layer with 1,024 hidden units and ReLU activation\n",
        "x = layers.Dense(1024, activation='relu')(x)\n",
        "# Add a dropout rate of 0.2    \n",
        "x=layers.Dropout(0.2)(x)             \n",
        "# Add a final sigmoid layer for classification\n",
        "x = layers.Dense  (1, activation='sigmoid')(x)           \n",
        "\n",
        "model = Model( pre_trained_model.input, x) \n",
        "\n",
        "model.compile(optimizer='adam', \n",
        "              loss = 'binary_crossentropy', \n",
        "              metrics = ['accuracy'])\n"
      ],
      "execution_count": 6,
      "outputs": []
    },
    {
      "cell_type": "code",
      "metadata": {
        "id": "pmXRkUFdfQxd",
        "colab_type": "code",
        "colab": {
          "base_uri": "https://localhost:8080/",
          "height": 52
        },
        "outputId": "5276a2b1-af80-4a8b-a31a-60ed138b7741"
      },
      "source": [
        "from tensorflow.keras.preprocessing.image import ImageDataGenerator\n",
        "\n",
        "import os\n",
        "import zipfile\n",
        "\n",
        "\n",
        "# Define our example directories and files\n",
        "base_dir ='/content/drive/My Drive/Colab Notebooks/dataset_new/spiral'\n",
        "\n",
        "train_dir = '/content/drive/My Drive/Colab Notebooks/dataset_new/spiral/training'\n",
        "validation_dir = '/content/drive/My Drive/Colab Notebooks/dataset_new/spiral/testing'\n",
        "\n",
        "\n",
        "train_HE_dir='/content/drive/My Drive/Colab Notebooks/dataset_new/spiral/training/HE'\n",
        "train_PE_dir='/content/drive/My Drive/Colab Notebooks/dataset_new/spiral/training/PE'\n",
        "validation_HE_dir =\"/content/drive/My Drive/Colab Notebooks/dataset_new/spiral/testing/HE\"\n",
        "validation_PE_dir = '/content/drive/My Drive/Colab Notebooks/dataset_new/spiral/testing/PE'\n",
        "\n",
        "train_HE_fnames = os.listdir(train_HE_dir)\n",
        "train_PE_fnames = os.listdir(train_PE_dir)\n",
        "\n",
        "# Add our data-augmentation parameters to ImageDataGenerator\n",
        "train_datagen = ImageDataGenerator(rescale = 1./255.,\n",
        "                                   rotation_range = 40,\n",
        "                                   width_shift_range = 0.2,\n",
        "                                   height_shift_range = 0.2,\n",
        "                                   shear_range = 0.2,\n",
        "                                   zoom_range = 0.2,\n",
        "                                   horizontal_flip = True)\n",
        "\n",
        "# Note that the validation data should not be augmented!\n",
        "test_datagen = ImageDataGenerator( rescale = 1.0/255. )\n",
        "\n",
        "# Flow training images in batches of 20 using train_datagen generator\n",
        "train_generator = train_datagen.flow_from_directory(train_dir,\n",
        "                                                    batch_size = 20,\n",
        "                                                    class_mode = 'binary', \n",
        "                                                    target_size = (150,150))     \n",
        "\n",
        "# Flow validation images in batches of 20 using test_datagen generator\n",
        "validation_generator =  test_datagen.flow_from_directory( validation_dir,\n",
        "                                                          batch_size  = 20,\n",
        "                                                          class_mode  = 'binary', \n",
        "                                                          target_size = (150, 150))"
      ],
      "execution_count": 7,
      "outputs": [
        {
          "output_type": "stream",
          "text": [
            "Found 106 images belonging to 2 classes.\n",
            "Found 44 images belonging to 2 classes.\n"
          ],
          "name": "stdout"
        }
      ]
    },
    {
      "cell_type": "code",
      "metadata": {
        "id": "gTntudxfgpjv",
        "colab_type": "code",
        "colab": {
          "base_uri": "https://localhost:8080/",
          "height": 783
        },
        "outputId": "8843c0a8-bd6e-4049-c504-a6dfd662f42c"
      },
      "source": [
        "history = model.fit_generator(\n",
        "            train_generator,\n",
        "            validation_data = validation_generator,\n",
        "            steps_per_epoch = 6,\n",
        "            epochs = 20,\n",
        "\n",
        "            validation_steps = 2,\n",
        "            verbose = 2)"
      ],
      "execution_count": 8,
      "outputs": [
        {
          "output_type": "stream",
          "text": [
            "WARNING:tensorflow:From <ipython-input-8-2e975eb2c92b>:8: Model.fit_generator (from tensorflow.python.keras.engine.training) is deprecated and will be removed in a future version.\n",
            "Instructions for updating:\n",
            "Please use Model.fit, which supports generators.\n",
            "Epoch 1/20\n",
            "6/6 - 62s - loss: 3.6695 - accuracy: 0.6509 - val_loss: 1.4985 - val_accuracy: 0.8000\n",
            "Epoch 2/20\n",
            "6/6 - 1s - loss: 1.3523 - accuracy: 0.7736 - val_loss: 0.4019 - val_accuracy: 0.8250\n",
            "Epoch 3/20\n",
            "6/6 - 1s - loss: 0.7386 - accuracy: 0.7547 - val_loss: 0.2088 - val_accuracy: 0.9000\n",
            "Epoch 4/20\n",
            "6/6 - 1s - loss: 0.4139 - accuracy: 0.8019 - val_loss: 0.2614 - val_accuracy: 0.9000\n",
            "Epoch 5/20\n",
            "6/6 - 1s - loss: 0.5190 - accuracy: 0.8019 - val_loss: 0.2333 - val_accuracy: 0.8750\n",
            "Epoch 6/20\n",
            "6/6 - 1s - loss: 0.3855 - accuracy: 0.8302 - val_loss: 0.2284 - val_accuracy: 0.8750\n",
            "Epoch 7/20\n",
            "6/6 - 1s - loss: 0.4908 - accuracy: 0.7736 - val_loss: 0.1779 - val_accuracy: 0.9500\n",
            "Epoch 8/20\n",
            "6/6 - 1s - loss: 0.4143 - accuracy: 0.7925 - val_loss: 0.3947 - val_accuracy: 0.8500\n",
            "Epoch 9/20\n",
            "6/6 - 1s - loss: 0.4592 - accuracy: 0.8113 - val_loss: 0.2143 - val_accuracy: 0.9250\n",
            "Epoch 10/20\n",
            "6/6 - 1s - loss: 0.3967 - accuracy: 0.8679 - val_loss: 0.1946 - val_accuracy: 0.8750\n",
            "Epoch 11/20\n",
            "6/6 - 1s - loss: 0.3635 - accuracy: 0.8491 - val_loss: 0.2965 - val_accuracy: 0.8750\n",
            "Epoch 12/20\n",
            "6/6 - 1s - loss: 0.4820 - accuracy: 0.7736 - val_loss: 0.3241 - val_accuracy: 0.8500\n",
            "Epoch 13/20\n",
            "6/6 - 1s - loss: 0.3723 - accuracy: 0.8491 - val_loss: 0.2419 - val_accuracy: 0.9250\n",
            "Epoch 14/20\n",
            "6/6 - 1s - loss: 0.3551 - accuracy: 0.8208 - val_loss: 0.1759 - val_accuracy: 0.8750\n",
            "Epoch 15/20\n",
            "6/6 - 1s - loss: 0.3472 - accuracy: 0.8585 - val_loss: 0.2128 - val_accuracy: 0.9000\n",
            "Epoch 16/20\n",
            "6/6 - 1s - loss: 0.2767 - accuracy: 0.8774 - val_loss: 0.2431 - val_accuracy: 0.8500\n",
            "Epoch 17/20\n",
            "6/6 - 1s - loss: 0.3477 - accuracy: 0.8774 - val_loss: 0.1772 - val_accuracy: 0.8750\n",
            "Epoch 18/20\n",
            "6/6 - 1s - loss: 0.3229 - accuracy: 0.8585 - val_loss: 0.3393 - val_accuracy: 0.8750\n",
            "Epoch 19/20\n",
            "6/6 - 1s - loss: 0.3612 - accuracy: 0.8396 - val_loss: 0.3587 - val_accuracy: 0.8500\n",
            "Epoch 20/20\n",
            "6/6 - 1s - loss: 0.5647 - accuracy: 0.7925 - val_loss: 0.3671 - val_accuracy: 0.8750\n"
          ],
          "name": "stdout"
        }
      ]
    },
    {
      "cell_type": "code",
      "metadata": {
        "id": "MLakXFSmgzy3",
        "colab_type": "code",
        "colab": {}
      },
      "source": [
        ""
      ],
      "execution_count": null,
      "outputs": []
    }
  ]
}